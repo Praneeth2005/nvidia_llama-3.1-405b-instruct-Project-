{
  "nbformat": 4,
  "nbformat_minor": 0,
  "metadata": {
    "colab": {
      "provenance": [],
      "include_colab_link": true
    },
    "kernelspec": {
      "name": "python3",
      "display_name": "Python 3"
    },
    "language_info": {
      "name": "python"
    }
  },
  "cells": [
    {
      "cell_type": "markdown",
      "metadata": {
        "id": "view-in-github",
        "colab_type": "text"
      },
      "source": [
        "<a href=\"https://colab.research.google.com/github/Praneeth2005/nvidia_llama-3.1-405b-instruct-Project-/blob/main/Final%20Project%20For%20Deployment.ipynb\" target=\"_parent\"><img src=\"https://colab.research.google.com/assets/colab-badge.svg\" alt=\"Open In Colab\"/></a>"
      ]
    },
    {
      "cell_type": "code",
      "execution_count": 8,
      "metadata": {
        "id": "5TQGmorFc-BI"
      },
      "outputs": [],
      "source": [
        "!pip install -q openai\n"
      ]
    },
    {
      "cell_type": "code",
      "source": [
        "from openai import OpenAI\n",
        "from google.colab import userdata\n"
      ],
      "metadata": {
        "id": "HJb6frdTdBEP"
      },
      "execution_count": 9,
      "outputs": []
    },
    {
      "cell_type": "code",
      "source": [
        "\n",
        "client = OpenAI(\n",
        "  base_url = \"https://integrate.api.nvidia.com/v1\",\n",
        "  api_key = userdata.get('NVIDIA_NIM')\n",
        ")\n",
        "\n"
      ],
      "metadata": {
        "id": "5W3Hq7LndBJ-"
      },
      "execution_count": 14,
      "outputs": []
    },
    {
      "cell_type": "code",
      "source": [
        "completion = client.chat.completions.create(\n",
        "  model=\"meta/llama-3.1-405b-instruct\",\n",
        "  messages=[{\"role\":\"user\",\"content\":\"What Is the purpose of ai in fields of healthcare\"}],\n",
        "  temperature=0.2,\n",
        "  top_p=0.7,\n",
        "  max_tokens=1024,\n",
        "  stream=True\n",
        ")\n",
        "\n",
        "for chunk in completion:\n",
        "  if chunk.choices[0].delta.content is not None:\n",
        "    print(chunk.choices[0].delta.content, end=\"\")"
      ],
      "metadata": {
        "colab": {
          "base_uri": "https://localhost:8080/"
        },
        "id": "2m9njB86dBQ4",
        "outputId": "e6db83f1-87c4-4f7e-ef70-a60a22f3f726"
      },
      "execution_count": 15,
      "outputs": [
        {
          "output_type": "stream",
          "name": "stdout",
          "text": [
            "The purpose of Artificial Intelligence (AI) in healthcare is multifaceted and rapidly evolving. Here are some of the primary purposes of AI in healthcare:\n",
            "\n",
            "1. **Improved Diagnosis**: AI algorithms can analyze medical images, patient data, and medical literature to help doctors diagnose diseases more accurately and quickly.\n",
            "2. **Personalized Medicine**: AI can help tailor treatment plans to individual patients based on their unique genetic profiles, medical histories, and lifestyle factors.\n",
            "3. **Predictive Analytics**: AI can analyze large datasets to identify high-risk patients, predict disease progression, and anticipate treatment outcomes.\n",
            "4. **Clinical Decision Support**: AI-powered systems can provide healthcare professionals with real-time, data-driven insights to inform their clinical decisions.\n",
            "5. **Streamlined Clinical Workflows**: AI can automate routine administrative tasks, freeing up healthcare professionals to focus on more complex and high-value tasks.\n",
            "6. **Enhanced Patient Engagement**: AI-powered chatbots and virtual assistants can help patients manage their health, adhere to treatment plans, and communicate with healthcare providers.\n",
            "7. **Medical Research and Discovery**: AI can help researchers analyze large datasets, identify patterns, and make new discoveries that can lead to the development of new treatments and therapies.\n",
            "8. **Population Health Management**: AI can help healthcare organizations identify high-risk populations, track disease trends, and develop targeted interventions to improve public health.\n",
            "9. **Medical Imaging Analysis**: AI can help analyze medical images such as X-rays, CT scans, and MRIs to detect abnormalities and diagnose conditions more accurately.\n",
            "10. **Reducing Healthcare Costs**: AI can help reduce healthcare costs by improving resource allocation, reducing waste, and optimizing treatment plans.\n",
            "\n",
            "Some specific applications of AI in healthcare include:\n",
            "\n",
            "1. **Computer-aided detection (CAD) systems**: AI-powered systems that help doctors detect abnormalities in medical images.\n",
            "2. **Natural Language Processing (NLP)**: AI-powered systems that can analyze and understand human language to improve clinical documentation and communication.\n",
            "3. **Robot-assisted surgery**: AI-powered robots that can assist surgeons during procedures and improve outcomes.\n",
            "4. **Virtual nursing assistants**: AI-powered chatbots that can help patients manage their health and communicate with healthcare providers.\n",
            "5. **Predictive modeling**: AI-powered systems that can predict patient outcomes, disease progression, and treatment responses.\n",
            "\n",
            "Overall, the purpose of AI in healthcare is to improve patient outcomes, enhance the quality of care, and reduce healthcare costs."
          ]
        }
      ]
    },
    {
      "cell_type": "code",
      "source": [],
      "metadata": {
        "id": "xbSnIC3jdhPU"
      },
      "execution_count": null,
      "outputs": []
    }
  ]
}